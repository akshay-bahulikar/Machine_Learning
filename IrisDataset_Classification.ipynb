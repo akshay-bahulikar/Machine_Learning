{
  "nbformat": 4,
  "nbformat_minor": 0,
  "metadata": {
    "colab": {
      "name": "IrisDataset_Classification.ipynb",
      "provenance": [],
      "authorship_tag": "ABX9TyN+giLP4/f9hP/TqZzVXi/I",
      "include_colab_link": true
    },
    "kernelspec": {
      "name": "python3",
      "display_name": "Python 3"
    }
  },
  "cells": [
    {
      "cell_type": "markdown",
      "metadata": {
        "id": "view-in-github",
        "colab_type": "text"
      },
      "source": [
        "<a href=\"https://colab.research.google.com/github/akshay-bahulikar/Machine_Learning/blob/master/IrisDataset_Classification.ipynb\" target=\"_parent\"><img src=\"https://colab.research.google.com/assets/colab-badge.svg\" alt=\"Open In Colab\"/></a>"
      ]
    },
    {
      "cell_type": "code",
      "metadata": {
        "id": "v2-D5OSKao7l",
        "colab_type": "code",
        "colab": {}
      },
      "source": [
        "%tensorflow_version 2.x"
      ],
      "execution_count": 1,
      "outputs": []
    },
    {
      "cell_type": "code",
      "metadata": {
        "id": "aFWk2X5L4OrB",
        "colab_type": "code",
        "colab": {}
      },
      "source": [
        "from __future__ import absolute_import, division, print_function, unicode_literals\n",
        "\n",
        "import tensorflow as tf\n",
        "import pandas as pd"
      ],
      "execution_count": 2,
      "outputs": []
    },
    {
      "cell_type": "code",
      "metadata": {
        "id": "v1T3ccGy4cU7",
        "colab_type": "code",
        "colab": {}
      },
      "source": [
        "Csv_column_names=['SepalLength','SepalWidth','PetalLength','PetalWidth','Species']\n",
        "Species=['Sentosa','Versicolor','Virginica']"
      ],
      "execution_count": 4,
      "outputs": []
    },
    {
      "cell_type": "markdown",
      "metadata": {
        "id": "HPNTcL-x5pII",
        "colab_type": "text"
      },
      "source": [
        "Here we use Keras a module inside of Tensorflow to grab our datasets and read them into a pandas dataframe."
      ]
    },
    {
      "cell_type": "code",
      "metadata": {
        "id": "ZV6XtZEv45wJ",
        "colab_type": "code",
        "colab": {
          "base_uri": "https://localhost:8080/",
          "height": 104
        },
        "outputId": "c31e41e3-702c-47f9-c218-6cd7dcf1842a"
      },
      "source": [
        "train_path=tf.keras.utils.get_file(\"iris_training.csv\",\"https://storage.googleapis.com/download.tensorflow.org/data/iris_training.csv\")\n",
        "test_path=tf.keras.utils.get_file(\"iris_test.csv\",\"https://storage.googleapis.com/download.tensorflow.org/data/iris_test.csv\")\n",
        "\n",
        "train=pd.read_csv(train_path,names=Csv_column_names,header=0)\n",
        "test=pd.read_csv(test_path,names=Csv_column_names,header=0) "
      ],
      "execution_count": 5,
      "outputs": [
        {
          "output_type": "stream",
          "text": [
            "Downloading data from https://storage.googleapis.com/download.tensorflow.org/data/iris_training.csv\n",
            "\r8192/2194 [================================================================================================================] - 0s 0us/step\n",
            "Downloading data from https://storage.googleapis.com/download.tensorflow.org/data/iris_test.csv\n",
            "8192/573 [============================================================================================================================================================================================================================================================================================================================================================================================================================================] - 0s 0us/step\n"
          ],
          "name": "stdout"
        }
      ]
    },
    {
      "cell_type": "code",
      "metadata": {
        "id": "C8BaTOXj50tv",
        "colab_type": "code",
        "colab": {
          "base_uri": "https://localhost:8080/",
          "height": 195
        },
        "outputId": "bfb18f8d-b02d-43cf-b223-3edecb981eae"
      },
      "source": [
        "train.head()"
      ],
      "execution_count": 6,
      "outputs": [
        {
          "output_type": "execute_result",
          "data": {
            "text/html": [
              "<div>\n",
              "<style scoped>\n",
              "    .dataframe tbody tr th:only-of-type {\n",
              "        vertical-align: middle;\n",
              "    }\n",
              "\n",
              "    .dataframe tbody tr th {\n",
              "        vertical-align: top;\n",
              "    }\n",
              "\n",
              "    .dataframe thead th {\n",
              "        text-align: right;\n",
              "    }\n",
              "</style>\n",
              "<table border=\"1\" class=\"dataframe\">\n",
              "  <thead>\n",
              "    <tr style=\"text-align: right;\">\n",
              "      <th></th>\n",
              "      <th>SepalLength</th>\n",
              "      <th>SepalWidth</th>\n",
              "      <th>PetalLength</th>\n",
              "      <th>PetalWidth</th>\n",
              "      <th>Species</th>\n",
              "    </tr>\n",
              "  </thead>\n",
              "  <tbody>\n",
              "    <tr>\n",
              "      <th>0</th>\n",
              "      <td>6.4</td>\n",
              "      <td>2.8</td>\n",
              "      <td>5.6</td>\n",
              "      <td>2.2</td>\n",
              "      <td>2</td>\n",
              "    </tr>\n",
              "    <tr>\n",
              "      <th>1</th>\n",
              "      <td>5.0</td>\n",
              "      <td>2.3</td>\n",
              "      <td>3.3</td>\n",
              "      <td>1.0</td>\n",
              "      <td>1</td>\n",
              "    </tr>\n",
              "    <tr>\n",
              "      <th>2</th>\n",
              "      <td>4.9</td>\n",
              "      <td>2.5</td>\n",
              "      <td>4.5</td>\n",
              "      <td>1.7</td>\n",
              "      <td>2</td>\n",
              "    </tr>\n",
              "    <tr>\n",
              "      <th>3</th>\n",
              "      <td>4.9</td>\n",
              "      <td>3.1</td>\n",
              "      <td>1.5</td>\n",
              "      <td>0.1</td>\n",
              "      <td>0</td>\n",
              "    </tr>\n",
              "    <tr>\n",
              "      <th>4</th>\n",
              "      <td>5.7</td>\n",
              "      <td>3.8</td>\n",
              "      <td>1.7</td>\n",
              "      <td>0.3</td>\n",
              "      <td>0</td>\n",
              "    </tr>\n",
              "  </tbody>\n",
              "</table>\n",
              "</div>"
            ],
            "text/plain": [
              "   SepalLength  SepalWidth  PetalLength  PetalWidth  Species\n",
              "0          6.4         2.8          5.6         2.2        2\n",
              "1          5.0         2.3          3.3         1.0        1\n",
              "2          4.9         2.5          4.5         1.7        2\n",
              "3          4.9         3.1          1.5         0.1        0\n",
              "4          5.7         3.8          1.7         0.3        0"
            ]
          },
          "metadata": {
            "tags": []
          },
          "execution_count": 6
        }
      ]
    },
    {
      "cell_type": "code",
      "metadata": {
        "id": "_4f553at54zB",
        "colab_type": "code",
        "colab": {}
      },
      "source": [
        "train_y=train.pop('Species')\n",
        "test_y=test.pop('Species')"
      ],
      "execution_count": 7,
      "outputs": []
    },
    {
      "cell_type": "code",
      "metadata": {
        "id": "C1nGSZq-6JPu",
        "colab_type": "code",
        "colab": {
          "base_uri": "https://localhost:8080/",
          "height": 34
        },
        "outputId": "cf81c2b3-be7c-46ed-c2ae-b75931727915"
      },
      "source": [
        "train.shape"
      ],
      "execution_count": 8,
      "outputs": [
        {
          "output_type": "execute_result",
          "data": {
            "text/plain": [
              "(120, 4)"
            ]
          },
          "metadata": {
            "tags": []
          },
          "execution_count": 8
        }
      ]
    },
    {
      "cell_type": "markdown",
      "metadata": {
        "id": "cTCD5Cia6RJj",
        "colab_type": "text"
      },
      "source": [
        "Input Function"
      ]
    },
    {
      "cell_type": "code",
      "metadata": {
        "id": "6VjGHOAK6LcU",
        "colab_type": "code",
        "colab": {}
      },
      "source": [
        "def input_fn(features,labels,training=True,batch_size=256):\n",
        "  #convert the inputs to a dataset\n",
        "  dataset=tf.data.Dataset.from_tensor_slices((dict(features),labels))\n",
        "\n",
        "  #shuffle and repeat if you are in training mode\n",
        "  if training:\n",
        "    dataset=dataset.shuffle(1000).repeat()\n",
        "  \n",
        "  return dataset.batch(batch_size)"
      ],
      "execution_count": 13,
      "outputs": []
    },
    {
      "cell_type": "markdown",
      "metadata": {
        "id": "htnNKdxM65iG",
        "colab_type": "text"
      },
      "source": [
        "Feature Columns"
      ]
    },
    {
      "cell_type": "code",
      "metadata": {
        "id": "oa9zYLpd67JL",
        "colab_type": "code",
        "colab": {
          "base_uri": "https://localhost:8080/",
          "height": 54
        },
        "outputId": "ae6be6e8-3631-4df4-9274-2b907e775c7d"
      },
      "source": [
        "#Feature columns describe how to use to input\n",
        "my_feature_columns=[]\n",
        "for key in train.keys():\n",
        "  my_feature_columns.append(tf.feature_column.numeric_column(key=key))\n",
        "\n",
        "print(my_feature_columns)"
      ],
      "execution_count": 15,
      "outputs": [
        {
          "output_type": "stream",
          "text": [
            "[NumericColumn(key='SepalLength', shape=(1,), default_value=None, dtype=tf.float32, normalizer_fn=None), NumericColumn(key='SepalWidth', shape=(1,), default_value=None, dtype=tf.float32, normalizer_fn=None), NumericColumn(key='PetalLength', shape=(1,), default_value=None, dtype=tf.float32, normalizer_fn=None), NumericColumn(key='PetalWidth', shape=(1,), default_value=None, dtype=tf.float32, normalizer_fn=None)]\n"
          ],
          "name": "stdout"
        }
      ]
    },
    {
      "cell_type": "markdown",
      "metadata": {
        "id": "cX4QZYKj7cLd",
        "colab_type": "text"
      },
      "source": [
        "Building the Model.\n",
        "We use DNN Classifier (Deep Neural Network) is better as we may not be able to find a linear correspondence in out data."
      ]
    },
    {
      "cell_type": "code",
      "metadata": {
        "id": "Oz3oyblp7yVg",
        "colab_type": "code",
        "colab": {
          "base_uri": "https://localhost:8080/",
          "height": 188
        },
        "outputId": "9e8bfc62-30fb-4059-eed5-ba0d2d279b93"
      },
      "source": [
        "#Build a DNN with 2 hidden layers with 30 and 10 nodes each.\n",
        "classifier=tf.estimator.DNNClassifier(feature_columns=my_feature_columns,\n",
        "                                      #2 hidden layers of 30 and 10 nodes each\n",
        "                                      hidden_units=[30,10],\n",
        "                                      #The model must choose between 3 classes\n",
        "                                      n_classes=3)"
      ],
      "execution_count": 16,
      "outputs": [
        {
          "output_type": "stream",
          "text": [
            "INFO:tensorflow:Using default config.\n",
            "WARNING:tensorflow:Using temporary folder as model directory: /tmp/tmpw4fa7cq1\n",
            "INFO:tensorflow:Using config: {'_model_dir': '/tmp/tmpw4fa7cq1', '_tf_random_seed': None, '_save_summary_steps': 100, '_save_checkpoints_steps': None, '_save_checkpoints_secs': 600, '_session_config': allow_soft_placement: true\n",
            "graph_options {\n",
            "  rewrite_options {\n",
            "    meta_optimizer_iterations: ONE\n",
            "  }\n",
            "}\n",
            ", '_keep_checkpoint_max': 5, '_keep_checkpoint_every_n_hours': 10000, '_log_step_count_steps': 100, '_train_distribute': None, '_device_fn': None, '_protocol': None, '_eval_distribute': None, '_experimental_distribute': None, '_experimental_max_worker_delay_secs': None, '_session_creation_timeout_secs': 7200, '_service': None, '_cluster_spec': ClusterSpec({}), '_task_type': 'worker', '_task_id': 0, '_global_id_in_cluster': 0, '_master': '', '_evaluation_master': '', '_is_chief': True, '_num_ps_replicas': 0, '_num_worker_replicas': 1}\n"
          ],
          "name": "stdout"
        }
      ]
    },
    {
      "cell_type": "code",
      "metadata": {
        "id": "1TgP8yLs7dzc",
        "colab_type": "code",
        "colab": {
          "base_uri": "https://localhost:8080/",
          "height": 1000
        },
        "outputId": "df5f0576-97b0-4009-d8ef-d2a3512fb360"
      },
      "source": [
        "classifier.train(input_fn=lambda: input_fn(train,train_y,training=True),\n",
        "                 steps=5000)"
      ],
      "execution_count": 17,
      "outputs": [
        {
          "output_type": "stream",
          "text": [
            "INFO:tensorflow:Calling model_fn.\n",
            "WARNING:tensorflow:Layer dnn is casting an input tensor from dtype float64 to the layer's dtype of float32, which is new behavior in TensorFlow 2.  The layer has dtype float32 because its dtype defaults to floatx.\n",
            "\n",
            "If you intended to run this layer in float32, you can safely ignore this warning. If in doubt, this warning is likely only an issue if you are porting a TensorFlow 1.X model to TensorFlow 2.\n",
            "\n",
            "To change all layers to have dtype float64 by default, call `tf.keras.backend.set_floatx('float64')`. To change just this layer, pass dtype='float64' to the layer constructor. If you are the author of this layer, you can disable autocasting by passing autocast=False to the base Layer constructor.\n",
            "\n",
            "WARNING:tensorflow:From /usr/local/lib/python3.6/dist-packages/tensorflow/python/keras/optimizer_v2/adagrad.py:83: calling Constant.__init__ (from tensorflow.python.ops.init_ops) with dtype is deprecated and will be removed in a future version.\n",
            "Instructions for updating:\n",
            "Call initializer instance with the dtype argument instead of passing it to the constructor\n",
            "INFO:tensorflow:Done calling model_fn.\n",
            "INFO:tensorflow:Create CheckpointSaverHook.\n",
            "INFO:tensorflow:Graph was finalized.\n",
            "INFO:tensorflow:Running local_init_op.\n",
            "INFO:tensorflow:Done running local_init_op.\n",
            "INFO:tensorflow:Calling checkpoint listeners before saving checkpoint 0...\n",
            "INFO:tensorflow:Saving checkpoints for 0 into /tmp/tmpw4fa7cq1/model.ckpt.\n",
            "INFO:tensorflow:Calling checkpoint listeners after saving checkpoint 0...\n",
            "INFO:tensorflow:loss = 1.1421274, step = 0\n",
            "INFO:tensorflow:global_step/sec: 535.124\n",
            "INFO:tensorflow:loss = 0.86824936, step = 100 (0.191 sec)\n",
            "INFO:tensorflow:global_step/sec: 646.436\n",
            "INFO:tensorflow:loss = 0.7929628, step = 200 (0.153 sec)\n",
            "INFO:tensorflow:global_step/sec: 676.693\n",
            "INFO:tensorflow:loss = 0.7244006, step = 300 (0.147 sec)\n",
            "INFO:tensorflow:global_step/sec: 635.394\n",
            "INFO:tensorflow:loss = 0.6933991, step = 400 (0.160 sec)\n",
            "INFO:tensorflow:global_step/sec: 672.288\n",
            "INFO:tensorflow:loss = 0.68171644, step = 500 (0.149 sec)\n",
            "INFO:tensorflow:global_step/sec: 656.334\n",
            "INFO:tensorflow:loss = 0.65839446, step = 600 (0.150 sec)\n",
            "INFO:tensorflow:global_step/sec: 602.529\n",
            "INFO:tensorflow:loss = 0.6170832, step = 700 (0.169 sec)\n",
            "INFO:tensorflow:global_step/sec: 631.743\n",
            "INFO:tensorflow:loss = 0.61606234, step = 800 (0.156 sec)\n",
            "INFO:tensorflow:global_step/sec: 648.254\n",
            "INFO:tensorflow:loss = 0.60315084, step = 900 (0.156 sec)\n",
            "INFO:tensorflow:global_step/sec: 596.802\n",
            "INFO:tensorflow:loss = 0.58302164, step = 1000 (0.165 sec)\n",
            "INFO:tensorflow:global_step/sec: 645.517\n",
            "INFO:tensorflow:loss = 0.57462394, step = 1100 (0.157 sec)\n",
            "INFO:tensorflow:global_step/sec: 638.374\n",
            "INFO:tensorflow:loss = 0.56666887, step = 1200 (0.154 sec)\n",
            "INFO:tensorflow:global_step/sec: 640.073\n",
            "INFO:tensorflow:loss = 0.5523691, step = 1300 (0.156 sec)\n",
            "INFO:tensorflow:global_step/sec: 640.988\n",
            "INFO:tensorflow:loss = 0.54145586, step = 1400 (0.159 sec)\n",
            "INFO:tensorflow:global_step/sec: 616.426\n",
            "INFO:tensorflow:loss = 0.52268034, step = 1500 (0.162 sec)\n",
            "INFO:tensorflow:global_step/sec: 626.895\n",
            "INFO:tensorflow:loss = 0.5206057, step = 1600 (0.160 sec)\n",
            "INFO:tensorflow:global_step/sec: 633.751\n",
            "INFO:tensorflow:loss = 0.5082909, step = 1700 (0.155 sec)\n",
            "INFO:tensorflow:global_step/sec: 670.603\n",
            "INFO:tensorflow:loss = 0.50540024, step = 1800 (0.149 sec)\n",
            "INFO:tensorflow:global_step/sec: 643.709\n",
            "INFO:tensorflow:loss = 0.4981704, step = 1900 (0.158 sec)\n",
            "INFO:tensorflow:global_step/sec: 657.613\n",
            "INFO:tensorflow:loss = 0.49464047, step = 2000 (0.149 sec)\n",
            "INFO:tensorflow:global_step/sec: 649.535\n",
            "INFO:tensorflow:loss = 0.4931658, step = 2100 (0.154 sec)\n",
            "INFO:tensorflow:global_step/sec: 597.511\n",
            "INFO:tensorflow:loss = 0.46470785, step = 2200 (0.167 sec)\n",
            "INFO:tensorflow:global_step/sec: 644.351\n",
            "INFO:tensorflow:loss = 0.4693879, step = 2300 (0.156 sec)\n",
            "INFO:tensorflow:global_step/sec: 657.478\n",
            "INFO:tensorflow:loss = 0.45850483, step = 2400 (0.152 sec)\n",
            "INFO:tensorflow:global_step/sec: 653.309\n",
            "INFO:tensorflow:loss = 0.46011242, step = 2500 (0.155 sec)\n",
            "INFO:tensorflow:global_step/sec: 623.153\n",
            "INFO:tensorflow:loss = 0.44674408, step = 2600 (0.159 sec)\n",
            "INFO:tensorflow:global_step/sec: 656.399\n",
            "INFO:tensorflow:loss = 0.44968522, step = 2700 (0.155 sec)\n",
            "INFO:tensorflow:global_step/sec: 649.498\n",
            "INFO:tensorflow:loss = 0.44268316, step = 2800 (0.150 sec)\n",
            "INFO:tensorflow:global_step/sec: 618.906\n",
            "INFO:tensorflow:loss = 0.4409684, step = 2900 (0.164 sec)\n",
            "INFO:tensorflow:global_step/sec: 648.741\n",
            "INFO:tensorflow:loss = 0.42569143, step = 3000 (0.151 sec)\n",
            "INFO:tensorflow:global_step/sec: 622.468\n",
            "INFO:tensorflow:loss = 0.43621004, step = 3100 (0.162 sec)\n",
            "INFO:tensorflow:global_step/sec: 663.715\n",
            "INFO:tensorflow:loss = 0.42835534, step = 3200 (0.149 sec)\n",
            "INFO:tensorflow:global_step/sec: 686.931\n",
            "INFO:tensorflow:loss = 0.4247766, step = 3300 (0.144 sec)\n",
            "INFO:tensorflow:global_step/sec: 634.019\n",
            "INFO:tensorflow:loss = 0.41540986, step = 3400 (0.159 sec)\n",
            "INFO:tensorflow:global_step/sec: 643.766\n",
            "INFO:tensorflow:loss = 0.4201253, step = 3500 (0.158 sec)\n",
            "INFO:tensorflow:global_step/sec: 606.514\n",
            "INFO:tensorflow:loss = 0.4041801, step = 3600 (0.163 sec)\n",
            "INFO:tensorflow:global_step/sec: 658.576\n",
            "INFO:tensorflow:loss = 0.4143684, step = 3700 (0.152 sec)\n",
            "INFO:tensorflow:global_step/sec: 637.129\n",
            "INFO:tensorflow:loss = 0.4110501, step = 3800 (0.157 sec)\n",
            "INFO:tensorflow:global_step/sec: 665.916\n",
            "INFO:tensorflow:loss = 0.3912703, step = 3900 (0.154 sec)\n",
            "INFO:tensorflow:global_step/sec: 562.927\n",
            "INFO:tensorflow:loss = 0.39495498, step = 4000 (0.174 sec)\n",
            "INFO:tensorflow:global_step/sec: 671.343\n",
            "INFO:tensorflow:loss = 0.39292395, step = 4100 (0.149 sec)\n",
            "INFO:tensorflow:global_step/sec: 602.571\n",
            "INFO:tensorflow:loss = 0.38276243, step = 4200 (0.168 sec)\n",
            "INFO:tensorflow:global_step/sec: 656.741\n",
            "INFO:tensorflow:loss = 0.36714286, step = 4300 (0.153 sec)\n",
            "INFO:tensorflow:global_step/sec: 593.827\n",
            "INFO:tensorflow:loss = 0.37151837, step = 4400 (0.166 sec)\n",
            "INFO:tensorflow:global_step/sec: 638.282\n",
            "INFO:tensorflow:loss = 0.3740517, step = 4500 (0.158 sec)\n",
            "INFO:tensorflow:global_step/sec: 628.622\n",
            "INFO:tensorflow:loss = 0.36776716, step = 4600 (0.159 sec)\n",
            "INFO:tensorflow:global_step/sec: 653.289\n",
            "INFO:tensorflow:loss = 0.36402193, step = 4700 (0.153 sec)\n",
            "INFO:tensorflow:global_step/sec: 649.175\n",
            "INFO:tensorflow:loss = 0.35488355, step = 4800 (0.151 sec)\n",
            "INFO:tensorflow:global_step/sec: 621.31\n",
            "INFO:tensorflow:loss = 0.35867286, step = 4900 (0.161 sec)\n",
            "INFO:tensorflow:Calling checkpoint listeners before saving checkpoint 5000...\n",
            "INFO:tensorflow:Saving checkpoints for 5000 into /tmp/tmpw4fa7cq1/model.ckpt.\n",
            "INFO:tensorflow:Calling checkpoint listeners after saving checkpoint 5000...\n",
            "INFO:tensorflow:Loss for final step: 0.3471064.\n"
          ],
          "name": "stdout"
        },
        {
          "output_type": "execute_result",
          "data": {
            "text/plain": [
              "<tensorflow_estimator.python.estimator.canned.dnn.DNNClassifierV2 at 0x7f166eee1860>"
            ]
          },
          "metadata": {
            "tags": []
          },
          "execution_count": 17
        }
      ]
    },
    {
      "cell_type": "code",
      "metadata": {
        "id": "qoL4nmAg7T0_",
        "colab_type": "code",
        "colab": {
          "base_uri": "https://localhost:8080/",
          "height": 373
        },
        "outputId": "8ceef7d6-6336-474e-8c30-769cc6a0463c"
      },
      "source": [
        "eval_result=classifier.evaluate(input_fn=lambda: input_fn(test,test_y,training=False))\n",
        "print('\\nTest set Accuracy: {accuracy:0.3f}\\n'.format(**eval_result))"
      ],
      "execution_count": 19,
      "outputs": [
        {
          "output_type": "stream",
          "text": [
            "INFO:tensorflow:Calling model_fn.\n",
            "WARNING:tensorflow:Layer dnn is casting an input tensor from dtype float64 to the layer's dtype of float32, which is new behavior in TensorFlow 2.  The layer has dtype float32 because its dtype defaults to floatx.\n",
            "\n",
            "If you intended to run this layer in float32, you can safely ignore this warning. If in doubt, this warning is likely only an issue if you are porting a TensorFlow 1.X model to TensorFlow 2.\n",
            "\n",
            "To change all layers to have dtype float64 by default, call `tf.keras.backend.set_floatx('float64')`. To change just this layer, pass dtype='float64' to the layer constructor. If you are the author of this layer, you can disable autocasting by passing autocast=False to the base Layer constructor.\n",
            "\n",
            "INFO:tensorflow:Done calling model_fn.\n",
            "INFO:tensorflow:Starting evaluation at 2020-08-05T09:34:22Z\n",
            "INFO:tensorflow:Graph was finalized.\n",
            "INFO:tensorflow:Restoring parameters from /tmp/tmpw4fa7cq1/model.ckpt-5000\n",
            "INFO:tensorflow:Running local_init_op.\n",
            "INFO:tensorflow:Done running local_init_op.\n",
            "INFO:tensorflow:Inference Time : 0.23110s\n",
            "INFO:tensorflow:Finished evaluation at 2020-08-05-09:34:22\n",
            "INFO:tensorflow:Saving dict for global step 5000: accuracy = 0.93333334, average_loss = 0.41807646, global_step = 5000, loss = 0.41807646\n",
            "INFO:tensorflow:Saving 'checkpoint_path' summary for global step 5000: /tmp/tmpw4fa7cq1/model.ckpt-5000\n",
            "\n",
            "Test set Accuracy: 0.933\n",
            "\n"
          ],
          "name": "stdout"
        }
      ]
    },
    {
      "cell_type": "markdown",
      "metadata": {
        "id": "NaJqE-gS-ocW",
        "colab_type": "text"
      },
      "source": [
        "Input Function to predict actual values"
      ]
    },
    {
      "cell_type": "code",
      "metadata": {
        "id": "qjX7PXq8-tEZ",
        "colab_type": "code",
        "colab": {
          "base_uri": "https://localhost:8080/",
          "height": 218
        },
        "outputId": "2c85124c-1ab9-4684-bbcb-05cd2c089969"
      },
      "source": [
        "def input_fn(features, batch_size=256):\n",
        "  #convert the inputs to a dataset without labels\n",
        "  return tf.data.Dataset.from_tensor_slices(dict(features)).batch(batch_size)\n",
        "\n",
        "features=['SepalLength','SepalWidth','PetalLength','PetalWidth']\n",
        "predict={}\n",
        "\n",
        "print(\"Please type numeric values as prompted: \")\n",
        "for feature in features:\n",
        "  valid=True\n",
        "  while(valid):\n",
        "    val=input(feature + \": \")\n",
        "    if not val.isdigit():\n",
        "      valid=False\n",
        "\n",
        "  predict[feature]=[float(val)]\n",
        "\n",
        "predictions=classifier.predict(input_fn=lambda: input_fn(predict))\n",
        "for pred_dict in predictions:\n",
        "  class_id=pred_dict['class_ids'][0]\n",
        "  probability=pred_dict['probabilities'][class_id]\n",
        "\n",
        "  print('Prediction is \"{}\" ({:.1f}%)'.format(\n",
        "      Species[class_id],100*probability))"
      ],
      "execution_count": 20,
      "outputs": [
        {
          "output_type": "stream",
          "text": [
            "Please type numeric values as prompted: \n",
            "SepalLength: 2.4\n",
            "SepalWidth: 2.6\n",
            "PetalLength: 6.5\n",
            "PetalWidth: 6.3\n",
            "INFO:tensorflow:Calling model_fn.\n",
            "INFO:tensorflow:Done calling model_fn.\n",
            "INFO:tensorflow:Graph was finalized.\n",
            "INFO:tensorflow:Restoring parameters from /tmp/tmpw4fa7cq1/model.ckpt-5000\n",
            "INFO:tensorflow:Running local_init_op.\n",
            "INFO:tensorflow:Done running local_init_op.\n",
            "Prediction is \"Virginica\" (97.6%)\n"
          ],
          "name": "stdout"
        }
      ]
    }
  ]
}