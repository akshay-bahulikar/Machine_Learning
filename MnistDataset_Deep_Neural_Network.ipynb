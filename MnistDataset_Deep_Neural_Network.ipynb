{
  "nbformat": 4,
  "nbformat_minor": 0,
  "metadata": {
    "colab": {
      "name": "MnistDataset_Deep_Neural_Network.ipynb",
      "provenance": [],
      "authorship_tag": "ABX9TyMbNkqSJGn2UnfdzUxNhBxE",
      "include_colab_link": true
    },
    "kernelspec": {
      "name": "python3",
      "display_name": "Python 3"
    }
  },
  "cells": [
    {
      "cell_type": "markdown",
      "metadata": {
        "id": "view-in-github",
        "colab_type": "text"
      },
      "source": [
        "<a href=\"https://colab.research.google.com/github/akshay-bahulikar/Machine_Learning/blob/master/MnistDataset_Deep_Neural_Network.ipynb\" target=\"_parent\"><img src=\"https://colab.research.google.com/assets/colab-badge.svg\" alt=\"Open In Colab\"/></a>"
      ]
    },
    {
      "cell_type": "code",
      "metadata": {
        "id": "iyRDGkyJH9nT",
        "colab_type": "code",
        "colab": {}
      },
      "source": [
        "%tensorflow_version 2.x\n",
        "\n",
        "import tensorflow as tf\n",
        "from tensorflow import keras\n",
        "\n",
        "import numpy as np\n",
        "import matplotlib.pyplot as plt"
      ],
      "execution_count": 1,
      "outputs": []
    },
    {
      "cell_type": "code",
      "metadata": {
        "id": "RFF305g6n_4h",
        "colab_type": "code",
        "colab": {}
      },
      "source": [
        "fashion_mnist=keras.datasets.fashion_mnist #load dataset\n",
        "\n",
        "(train_images,train_labels), (test_images,test_labels)=fashion_mnist.load_data() #split into training and testing"
      ],
      "execution_count": 2,
      "outputs": []
    },
    {
      "cell_type": "code",
      "metadata": {
        "id": "qtZ7H9w7ocBN",
        "colab_type": "code",
        "colab": {
          "base_uri": "https://localhost:8080/",
          "height": 34
        },
        "outputId": "ca8ef9af-ca70-46e3-e9f6-faed275d73fd"
      },
      "source": [
        "train_images.shape #60000 images made up of 28*28 pixels each"
      ],
      "execution_count": 3,
      "outputs": [
        {
          "output_type": "execute_result",
          "data": {
            "text/plain": [
              "(60000, 28, 28)"
            ]
          },
          "metadata": {
            "tags": []
          },
          "execution_count": 3
        }
      ]
    },
    {
      "cell_type": "code",
      "metadata": {
        "id": "qkdiXBqlofke",
        "colab_type": "code",
        "colab": {
          "base_uri": "https://localhost:8080/",
          "height": 34
        },
        "outputId": "aac90557-3c1b-4deb-a94b-6fa6c664554a"
      },
      "source": [
        "train_images[0,23,23]"
      ],
      "execution_count": 13,
      "outputs": [
        {
          "output_type": "execute_result",
          "data": {
            "text/plain": [
              "194"
            ]
          },
          "metadata": {
            "tags": []
          },
          "execution_count": 13
        }
      ]
    },
    {
      "cell_type": "markdown",
      "metadata": {
        "id": "ahHz6PYip8nq",
        "colab_type": "text"
      },
      "source": [
        "Given is the pixel value of th image and 23*23th pixel which lies between 0 and 255, 0 being black and 255 being white. This means we have a grayscale image as there are no color channels.[link text](https://)"
      ]
    },
    {
      "cell_type": "code",
      "metadata": {
        "id": "ovGEyU9gp18M",
        "colab_type": "code",
        "colab": {
          "base_uri": "https://localhost:8080/",
          "height": 34
        },
        "outputId": "0f4451f0-ad3b-416e-f8be-ff4677cd61c5"
      },
      "source": [
        "train_labels[:10]"
      ],
      "execution_count": 14,
      "outputs": [
        {
          "output_type": "execute_result",
          "data": {
            "text/plain": [
              "array([9, 0, 0, 3, 0, 2, 7, 2, 5, 5], dtype=uint8)"
            ]
          },
          "metadata": {
            "tags": []
          },
          "execution_count": 14
        }
      ]
    },
    {
      "cell_type": "markdown",
      "metadata": {
        "id": "7d_GXQMfqNsM",
        "colab_type": "text"
      },
      "source": [
        "Our labels are integers ranging from 0-9. Each integer represents a specific article of clothing."
      ]
    },
    {
      "cell_type": "code",
      "metadata": {
        "id": "1g8iNpypolHf",
        "colab_type": "code",
        "colab": {}
      },
      "source": [
        "class_names=['T-shirt/top','Trouser','Pullover','Dress','Coat','Sandal','Shirt','Sneaker','Bag','Ankle boot'] #create an array of label names to indicate which is which"
      ],
      "execution_count": 15,
      "outputs": []
    },
    {
      "cell_type": "code",
      "metadata": {
        "id": "CnukYZQxqubc",
        "colab_type": "code",
        "colab": {
          "base_uri": "https://localhost:8080/",
          "height": 265
        },
        "outputId": "4c362d63-5469-44a7-e55e-1a6160b31b3e"
      },
      "source": [
        "plt.figure()\n",
        "plt.imshow(train_images[6])\n",
        "plt.colorbar()\n",
        "plt.show()"
      ],
      "execution_count": 16,
      "outputs": [
        {
          "output_type": "display_data",
          "data": {
            "image/png": "[encoded data removed]",
            "text/plain": [
              "<Figure size 432x288 with 2 Axes>"
            ]
          },
          "metadata": {
            "tags": [],
            "needs_background": "light"
          }
        }
      ]
    },
    {
      "cell_type": "markdown",
      "metadata": {
        "id": "p_QBZsMMrazY",
        "colab_type": "text"
      },
      "source": [
        "**Data Preprocessing** \n",
        "\n",
        "We scale all our grayscale pixel values(0-255) to be between 0 and 1. We can do this by dividing each value in the training and testing sets by 255.0 which will make it easier for the model to process the values.\n",
        "\n"
      ]
    },
    {
      "cell_type": "code",
      "metadata": {
        "id": "h39wnidyq88B",
        "colab_type": "code",
        "colab": {}
      },
      "source": [
        "train_images=train_images/255.0\n",
        "test_images=test_images/255.0"
      ],
      "execution_count": 17,
      "outputs": []
    },
    {
      "cell_type": "markdown",
      "metadata": {
        "id": "x5w5Bo6Os_4V",
        "colab_type": "text"
      },
      "source": [
        "**Building the Model**\n",
        "\n",
        "We are going to use a Keras sequential model with three different layers. This model represents a feed-forward neural network(one that passes the values from left to right).\n",
        "\n"
      ]
    },
    {
      "cell_type": "code",
      "metadata": {
        "id": "wXC5HLzLs94X",
        "colab_type": "code",
        "colab": {}
      },
      "source": [
        "model=keras.Sequential([\n",
        "    keras.layers.Flatten(input_shape=(28,28)),  #input layer (1)\n",
        "    keras.layers.Dense(128,activation='relu'),  #input layer (2)\n",
        "    keras.layers.Dense(10,activation='softmax')  #output layer (3)\n",
        "])"
      ],
      "execution_count": 18,
      "outputs": []
    },
    {
      "cell_type": "markdown",
      "metadata": {
        "id": "zFnMXJM-SB47",
        "colab_type": "text"
      },
      "source": [
        "**Layer 1:** This is our input layer and it will conist of 784 neurons. We use the flatten layer with an input shape of (28,28) to denote that our input should come in in that shape. The flatten means that our layer will reshape the shape (28,28) array into a vector of 784 neurons so that each pixel will be associated with one neuron.\n",
        "\n",
        "**Layer 2:** This is our first and only hidden layer. The *dense* denotes that this layer will be fully connected and each neuron from the previous layer connects to each neuron of this layer. It has 128 neurons and uses the rectify linear unit activation function.\n",
        "\n",
        "**Layer 3:** This is our output later and is also a dense layer. It has 10 neurons that we will look at to determine our models output. Each neuron represnts the probabillity of a given image being one of the 10 different classes. The activation function *softmax* is used on this layer to calculate a probabillity distribution for each class. This means the value of any neuron in this layer will be between 0 and 1, where 1 represents a high probabillity of the image being that class."
      ]
    },
    {
      "cell_type": "markdown",
      "metadata": {
        "id": "CqELltGVuv6X",
        "colab_type": "text"
      },
      "source": [
        "**Compile the Model**\n",
        "\n"
      ]
    },
    {
      "cell_type": "code",
      "metadata": {
        "id": "Bv8o8PxButTW",
        "colab_type": "code",
        "colab": {}
      },
      "source": [
        "model.compile(optimizer='adam',\n",
        "              loss='sparse_categorical_crossentropy',\n",
        "              metrics=['accuracy'])"
      ],
      "execution_count": 19,
      "outputs": []
    },
    {
      "cell_type": "markdown",
      "metadata": {
        "id": "ns3bLMMzS9hg",
        "colab_type": "text"
      },
      "source": [
        "**Training the Model**"
      ]
    },
    {
      "cell_type": "code",
      "metadata": {
        "id": "P_p8gtg8TAM3",
        "colab_type": "code",
        "colab": {
          "base_uri": "https://localhost:8080/",
          "height": 50
        },
        "outputId": "ffad6c84-b34e-413b-f79c-a339e19699e0"
      },
      "source": [
        "model.fit(train_images,train_labels,epochs=1)"
      ],
      "execution_count": 24,
      "outputs": [
        {
          "output_type": "stream",
          "text": [
            "1875/1875 [==============================] - 3s 2ms/step - loss: 0.1833 - accuracy: 0.9312\n"
          ],
          "name": "stdout"
        },
        {
          "output_type": "execute_result",
          "data": {
            "text/plain": [
              "<tensorflow.python.keras.callbacks.History at 0x7f9a80901f60>"
            ]
          },
          "metadata": {
            "tags": []
          },
          "execution_count": 24
        }
      ]
    },
    {
      "cell_type": "markdown",
      "metadata": {
        "id": "WErZs-LLWIto",
        "colab_type": "text"
      },
      "source": [
        "**Evaluating the Model**\n",
        "\n",
        "\n",
        "*   verbose = 0 , means silent\n",
        "*   verbose = 1, which includes both progress bar and one line per epoch.\n",
        "*   verbose = 2, which means one line per epoch i.e. epoch no./total no of epochs\n",
        "\n",
        "\n",
        "\n"
      ]
    },
    {
      "cell_type": "code",
      "metadata": {
        "id": "8iiz8ao4TjvZ",
        "colab_type": "code",
        "colab": {
          "base_uri": "https://localhost:8080/",
          "height": 50
        },
        "outputId": "fe939553-5925-4435-e826-2033a6881a08"
      },
      "source": [
        "test_loss,test_acc=model.evaluate(test_images,test_labels,verbose=1)\n",
        "print('Test Accuracy:', test_acc)"
      ],
      "execution_count": 25,
      "outputs": [
        {
          "output_type": "stream",
          "text": [
            "313/313 [==============================] - 0s 1ms/step - loss: 0.3480 - accuracy: 0.8907\n",
            "Test Accuracy: 0.8906999826431274\n"
          ],
          "name": "stdout"
        }
      ]
    },
    {
      "cell_type": "markdown",
      "metadata": {
        "id": "PJRFWw28aMmB",
        "colab_type": "text"
      },
      "source": [
        "**Making Predictions**"
      ]
    },
    {
      "cell_type": "code",
      "metadata": {
        "id": "pDmX4i8RZfjp",
        "colab_type": "code",
        "colab": {}
      },
      "source": [
        "predictions=model.predict(test_images)"
      ],
      "execution_count": 26,
      "outputs": []
    },
    {
      "cell_type": "code",
      "metadata": {
        "id": "EThclFbIaaW9",
        "colab_type": "code",
        "colab": {
          "base_uri": "https://localhost:8080/",
          "height": 286
        },
        "outputId": "51db71d5-2a5d-4a63-9f26-8177bd42a4c8"
      },
      "source": [
        "print(class_names[np.argmax(predictions[10])]) #argmax returns the indices of the maximum values along an axis.\n",
        "plt.figure()\n",
        "plt.imshow(test_images[10])\n",
        "plt.colorbar()\n",
        "plt.show()"
      ],
      "execution_count": 33,
      "outputs": [
        {
          "output_type": "stream",
          "text": [
            "Coat\n"
          ],
          "name": "stdout"
        },
        {
          "output_type": "display_data",
          "data": {
            "image/png": "[encoded data removed]",
            "text/plain": [
              "<Figure size 432x288 with 2 Axes>"
            ]
          },
          "metadata": {
            "tags": [],
            "needs_background": "light"
          }
        }
      ]
    },
    {
      "cell_type": "markdown",
      "metadata": {
        "id": "cg2CqpTIb7w8",
        "colab_type": "text"
      },
      "source": [
        "**Verifying Predictions**\n",
        "\n",
        "A function to help us verify predictions with some simple visuals"
      ]
    },
    {
      "cell_type": "code",
      "metadata": {
        "id": "no6X8goKcCfa",
        "colab_type": "code",
        "colab": {
          "base_uri": "https://localhost:8080/",
          "height": 329
        },
        "outputId": "2eca2175-94de-4346-bf85-fbbe316eebf0"
      },
      "source": [
        "def predict(model,image,correct_label):\n",
        "  class_names=['T-shirt/top','Trouser','Pullover','Dress',\n",
        "               'Coat','Sandal','Shirt','Sneaker','Bag','Ankle boot']\n",
        "  prediction=model.predict(np.array([image]))\n",
        "  predicted_class=class_names[np.argmax(prediction)]\n",
        "\n",
        "  show_image(image,class_names[correct_label],predicted_class)\n",
        "\n",
        "def show_image(img,label,guess):\n",
        "  plt.figure()\n",
        "  plt.imshow(img,cmap=plt.cm.binary)\n",
        "  plt.title(\"Expected : \"+label)\n",
        "  plt.xlabel(\"Predicted : \"+guess)\n",
        "  plt.colorbar()\n",
        "  plt.show()\n",
        "\n",
        "def get_number():\n",
        "  while True:\n",
        "    num=input(\"Pick a number: \")\n",
        "    if num.isdigit():\n",
        "      num=int(num)\n",
        "      if 0<=num<=1000:\n",
        "        return int(num)\n",
        "    else:\n",
        "      print(\"Try again...\")\n",
        "\n",
        "num=get_number()\n",
        "image=test_images[num]\n",
        "label=test_labels[num]\n",
        "print(label)\n",
        "predict(model,image,label)"
      ],
      "execution_count": 37,
      "outputs": [
        {
          "output_type": "stream",
          "text": [
            "Pick a number: 101\n",
            "6\n"
          ],
          "name": "stdout"
        },
        {
          "output_type": "display_data",
          "data": {
            "image/png": "[encoded data removed]",
            "text/plain": [
              "<Figure size 432x288 with 2 Axes>"
            ]
          },
          "metadata": {
            "tags": [],
            "needs_background": "light"
          }
        }
      ]
    }
  ]
}